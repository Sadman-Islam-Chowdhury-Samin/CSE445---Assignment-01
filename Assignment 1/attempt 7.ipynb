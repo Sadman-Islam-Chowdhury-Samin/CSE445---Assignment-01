{
 "cells": [
  {
   "cell_type": "code",
   "execution_count": 2,
   "id": "dfdb36da",
   "metadata": {},
   "outputs": [
    {
     "ename": "TypeError",
     "evalue": "unsupported operand type(s) for +: 'Timestamp' and 'Timestamp'",
     "output_type": "error",
     "traceback": [
      "\u001b[1;31m---------------------------------------------------------------------------\u001b[0m",
      "\u001b[1;31mTypeError\u001b[0m                                 Traceback (most recent call last)",
      "Cell \u001b[1;32mIn[2], line 33\u001b[0m\n\u001b[0;32m     30\u001b[0m X \u001b[38;5;241m=\u001b[39m np\u001b[38;5;241m.\u001b[39mcolumn_stack((X, np\u001b[38;5;241m.\u001b[39mones(X\u001b[38;5;241m.\u001b[39mshape[\u001b[38;5;241m0\u001b[39m])))\n\u001b[0;32m     32\u001b[0m \u001b[38;5;66;03m# Normalize features\u001b[39;00m\n\u001b[1;32m---> 33\u001b[0m X_mean \u001b[38;5;241m=\u001b[39m np\u001b[38;5;241m.\u001b[39mmean(X, axis\u001b[38;5;241m=\u001b[39m\u001b[38;5;241m0\u001b[39m)\n\u001b[0;32m     34\u001b[0m X_std \u001b[38;5;241m=\u001b[39m np\u001b[38;5;241m.\u001b[39mstd(X, axis\u001b[38;5;241m=\u001b[39m\u001b[38;5;241m0\u001b[39m)\n\u001b[0;32m     35\u001b[0m X_normalized \u001b[38;5;241m=\u001b[39m (X \u001b[38;5;241m-\u001b[39m X_mean) \u001b[38;5;241m/\u001b[39m X_std\n",
      "File \u001b[1;32m<__array_function__ internals>:200\u001b[0m, in \u001b[0;36mmean\u001b[1;34m(*args, **kwargs)\u001b[0m\n",
      "File \u001b[1;32m~\\anaconda3\\Lib\\site-packages\\numpy\\core\\fromnumeric.py:3464\u001b[0m, in \u001b[0;36mmean\u001b[1;34m(a, axis, dtype, out, keepdims, where)\u001b[0m\n\u001b[0;32m   3461\u001b[0m     \u001b[38;5;28;01melse\u001b[39;00m:\n\u001b[0;32m   3462\u001b[0m         \u001b[38;5;28;01mreturn\u001b[39;00m mean(axis\u001b[38;5;241m=\u001b[39maxis, dtype\u001b[38;5;241m=\u001b[39mdtype, out\u001b[38;5;241m=\u001b[39mout, \u001b[38;5;241m*\u001b[39m\u001b[38;5;241m*\u001b[39mkwargs)\n\u001b[1;32m-> 3464\u001b[0m \u001b[38;5;28;01mreturn\u001b[39;00m _methods\u001b[38;5;241m.\u001b[39m_mean(a, axis\u001b[38;5;241m=\u001b[39maxis, dtype\u001b[38;5;241m=\u001b[39mdtype,\n\u001b[0;32m   3465\u001b[0m                       out\u001b[38;5;241m=\u001b[39mout, \u001b[38;5;241m*\u001b[39m\u001b[38;5;241m*\u001b[39mkwargs)\n",
      "File \u001b[1;32m~\\anaconda3\\Lib\\site-packages\\numpy\\core\\_methods.py:181\u001b[0m, in \u001b[0;36m_mean\u001b[1;34m(a, axis, dtype, out, keepdims, where)\u001b[0m\n\u001b[0;32m    178\u001b[0m         dtype \u001b[38;5;241m=\u001b[39m mu\u001b[38;5;241m.\u001b[39mdtype(\u001b[38;5;124m'\u001b[39m\u001b[38;5;124mf4\u001b[39m\u001b[38;5;124m'\u001b[39m)\n\u001b[0;32m    179\u001b[0m         is_float16_result \u001b[38;5;241m=\u001b[39m \u001b[38;5;28;01mTrue\u001b[39;00m\n\u001b[1;32m--> 181\u001b[0m ret \u001b[38;5;241m=\u001b[39m umr_sum(arr, axis, dtype, out, keepdims, where\u001b[38;5;241m=\u001b[39mwhere)\n\u001b[0;32m    182\u001b[0m \u001b[38;5;28;01mif\u001b[39;00m \u001b[38;5;28misinstance\u001b[39m(ret, mu\u001b[38;5;241m.\u001b[39mndarray):\n\u001b[0;32m    183\u001b[0m     \u001b[38;5;28;01mwith\u001b[39;00m _no_nep50_warning():\n",
      "\u001b[1;31mTypeError\u001b[0m: unsupported operand type(s) for +: 'Timestamp' and 'Timestamp'"
     ]
    }
   ],
   "source": [
    "import pandas as pd\n",
    "import numpy as np\n",
    "\n",
    "file_path = 'AirQualityUCI.xlsx'\n",
    "\n",
    "# Load the Excel file into a DataFrame\n",
    "data = pd.read_excel(file_path)\n",
    "\n",
    "data['Time'] = pd.to_numeric(data['Time'], errors='coerce')\n",
    "nan_indices = data['Time'].isna()  # Find indices of NaN values\n",
    "num_nans = nan_indices.sum()  # Count the number of NaN values\n",
    "random_numbers = np.random.rand(num_nans)  # Generate random numbers between 0 and 1\n",
    "\n",
    "# Replace NaN values with random numbers\n",
    "data.loc[nan_indices, 'Time'] = random_numbers\n",
    "\n",
    "data['Date'] = (data['Date'] - data['Date'].min()) / (data['Date'].max() - data['Date'].min())\n",
    "\n",
    "\n",
    "\n",
    "\n",
    "# Split data into features (X) and target (y)\n",
    "x = data.iloc[0:,0:12]\n",
    "x['13'] =1\n",
    "x = np.array(x)\n",
    "\n",
    "y = np.array(data.iloc[0:,12:13])\n",
    "\n",
    "# Add a column of ones for the intercept term\n",
    "X = np.column_stack((X, np.ones(X.shape[0])))\n",
    "\n",
    "# Normalize features\n",
    "X_mean = np.mean(X, axis=0)\n",
    "X_std = np.std(X, axis=0)\n",
    "X_normalized = (X - X_mean) / X_std\n",
    "\n",
    "# Cost function\n",
    "def cost(X, y, params):\n",
    "    m = len(y)\n",
    "    error = np.dot(X, params) - y\n",
    "    total_cost = (1 / (2 * m)) * np.dot(error.T, error)\n",
    "    return total_cost\n",
    "\n",
    "# Gradient descent\n",
    "def gd(X, y, params, lrate, iter_value):\n",
    "    m = len(y)\n",
    "    for i in range(iter_value):\n",
    "        error = np.dot(X, params) - y\n",
    "        slopes = (1 / m) * np.dot(X.T, error)\n",
    "        params -= lrate * slopes\n",
    "        if i % 500 == 0:\n",
    "            print(f\"Iteration {i}: Cost {cost(X, y, params)}\")\n",
    "    return params\n",
    "\n",
    "# Running gradient descent\n",
    "params = np.zeros(X_normalized.shape[1])\n",
    "lrate = 0.01\n",
    "iter_value = 5000\n",
    "params = gd(X_normalized, y, params, lrate, iter_value)\n",
    "print(\"Optimal parameters:\", params)\n"
   ]
  },
  {
   "cell_type": "code",
   "execution_count": null,
   "id": "9824b820",
   "metadata": {},
   "outputs": [],
   "source": []
  }
 ],
 "metadata": {
  "kernelspec": {
   "display_name": "Python 3 (ipykernel)",
   "language": "python",
   "name": "python3"
  },
  "language_info": {
   "codemirror_mode": {
    "name": "ipython",
    "version": 3
   },
   "file_extension": ".py",
   "mimetype": "text/x-python",
   "name": "python",
   "nbconvert_exporter": "python",
   "pygments_lexer": "ipython3",
   "version": "3.11.5"
  }
 },
 "nbformat": 4,
 "nbformat_minor": 5
}
